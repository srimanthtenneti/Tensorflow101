{
  "nbformat": 4,
  "nbformat_minor": 0,
  "metadata": {
    "colab": {
      "name": "CNN101Template.ipynb",
      "provenance": [],
      "authorship_tag": "ABX9TyPkJTwcpzLYDjxUiTRHxaEO",
      "include_colab_link": true
    },
    "kernelspec": {
      "name": "python3",
      "display_name": "Python 3"
    },
    "language_info": {
      "name": "python"
    },
    "accelerator": "GPU"
  },
  "cells": [
    {
      "cell_type": "markdown",
      "metadata": {
        "id": "view-in-github",
        "colab_type": "text"
      },
      "source": [
        "<a href=\"https://colab.research.google.com/github/srimanthtenneti/Tensorflow101/blob/main/CNN101Template.ipynb\" target=\"_parent\"><img src=\"https://colab.research.google.com/assets/colab-badge.svg\" alt=\"Open In Colab\"/></a>"
      ]
    },
    {
      "cell_type": "code",
      "metadata": {
        "id": "E7dFdhSL9ix3"
      },
      "source": [
        "import tensorflow.keras as keras\n",
        "import matplotlib.pyplot as plt\n",
        "import pandas as pd\n",
        "\n",
        "import tensorflow.keras.layers as layers\n",
        "from tensorflow.keras.models import Sequential\n",
        "import numpy as np"
      ],
      "execution_count": 21,
      "outputs": []
    },
    {
      "cell_type": "markdown",
      "metadata": {
        "id": "Gsy2YmOpCGrJ"
      },
      "source": [
        "## MNIST Classifier using Keras API (on CPU)"
      ]
    },
    {
      "cell_type": "markdown",
      "metadata": {
        "id": "g8wYLq57MgAR"
      },
      "source": [
        "* Import the MNIST dataset from keras -> datasets -> mnist using the load_data "
      ]
    },
    {
      "cell_type": "code",
      "metadata": {
        "id": "vjeAM0l--ZD_"
      },
      "source": [
        ""
      ],
      "execution_count": 31,
      "outputs": []
    },
    {
      "cell_type": "markdown",
      "metadata": {
        "id": "RlEE3a5rM1wO"
      },
      "source": [
        "* View the dataset features and then normalize the data"
      ]
    },
    {
      "cell_type": "code",
      "metadata": {
        "id": "PqmdczcK_D2i"
      },
      "source": [
        ""
      ],
      "execution_count": 31,
      "outputs": []
    },
    {
      "cell_type": "code",
      "metadata": {
        "id": "Jazy6Jp__PNX"
      },
      "source": [
        ""
      ],
      "execution_count": 31,
      "outputs": []
    },
    {
      "cell_type": "code",
      "metadata": {
        "id": "GZVWJb1w_RkF"
      },
      "source": [
        ""
      ],
      "execution_count": 12,
      "outputs": []
    },
    {
      "cell_type": "code",
      "metadata": {
        "id": "QH3oHI2B_b4X"
      },
      "source": [
        ""
      ],
      "execution_count": 31,
      "outputs": []
    },
    {
      "cell_type": "markdown",
      "metadata": {
        "id": "W_RdDWtSNB9r"
      },
      "source": [
        "* Plot an image and visualize the data"
      ]
    },
    {
      "cell_type": "code",
      "metadata": {
        "id": "buq8wbAP_enG"
      },
      "source": [
        ""
      ],
      "execution_count": 31,
      "outputs": []
    },
    {
      "cell_type": "markdown",
      "metadata": {
        "id": "nFWRxqP9NLXF"
      },
      "source": [
        "* Reshape the data -> (_ , dim1 , dim2 , channel)"
      ]
    },
    {
      "cell_type": "code",
      "metadata": {
        "id": "0pLkyzGY_raL"
      },
      "source": [
        ""
      ],
      "execution_count": 15,
      "outputs": []
    },
    {
      "cell_type": "code",
      "metadata": {
        "id": "jxyVpa2fAFKx"
      },
      "source": [
        ""
      ],
      "execution_count": 16,
      "outputs": []
    },
    {
      "cell_type": "markdown",
      "metadata": {
        "id": "YKs7bchQNXri"
      },
      "source": [
        "* One hot encode the data using keras -> utils -> to_categorical"
      ]
    },
    {
      "cell_type": "code",
      "metadata": {
        "id": "w0rHJ8N4AJxI"
      },
      "source": [
        ""
      ],
      "execution_count": 18,
      "outputs": []
    },
    {
      "cell_type": "markdown",
      "metadata": {
        "id": "9nsKk-8rNjTm"
      },
      "source": [
        "* Define the number of classes"
      ]
    },
    {
      "cell_type": "code",
      "metadata": {
        "id": "PZg-DMakAywg"
      },
      "source": [
        ""
      ],
      "execution_count": 31,
      "outputs": []
    },
    {
      "cell_type": "markdown",
      "metadata": {
        "id": "eAnt1mw3NpkD"
      },
      "source": [
        "* Define a model using Sequential. \n",
        "* The Layers we will use in this convnet are : \n",
        "  1. keras.Input -> Input layer dims(28,28,1)\n",
        "  2. Conv2D -> with a relu activation\n",
        "  3. Conv2D -> with a relu activation\n",
        "  4. Flatten \n",
        "  5. Dropout -> with a probability of 0.5\n",
        "  6. Dense or Linear layer -> with num_classes number of nodes and a softmax activation"
      ]
    },
    {
      "cell_type": "code",
      "metadata": {
        "id": "7R_dQ1nKA22p"
      },
      "source": [
        ""
      ],
      "execution_count": 31,
      "outputs": []
    },
    {
      "cell_type": "markdown",
      "metadata": {
        "id": "LA2mHgIeOZVP"
      },
      "source": [
        "* Now we will look at the layers we created for the model"
      ]
    },
    {
      "cell_type": "code",
      "metadata": {
        "id": "PSlO8ojeB4rL"
      },
      "source": [
        ""
      ],
      "execution_count": 31,
      "outputs": []
    },
    {
      "cell_type": "markdown",
      "metadata": {
        "id": "u1u4dTyMOfK_"
      },
      "source": [
        "* The loss function we would use is the categorical crossentropy with the adam optimizer"
      ]
    },
    {
      "cell_type": "code",
      "metadata": {
        "id": "24753W2yBeKj"
      },
      "source": [
        ""
      ],
      "execution_count": 24,
      "outputs": []
    },
    {
      "cell_type": "markdown",
      "metadata": {
        "id": "57MMdNulOytD"
      },
      "source": [
        "* We would now train the model for 1 epoch"
      ]
    },
    {
      "cell_type": "code",
      "metadata": {
        "id": "PdduNPguBpys"
      },
      "source": [
        ""
      ],
      "execution_count": 31,
      "outputs": []
    },
    {
      "cell_type": "markdown",
      "metadata": {
        "id": "PYuK4WDEO37-"
      },
      "source": [
        "* Getting the prediction from them model"
      ]
    },
    {
      "cell_type": "code",
      "metadata": {
        "id": "dFExGa4wDSBB"
      },
      "source": [
        ""
      ],
      "execution_count": 31,
      "outputs": []
    },
    {
      "cell_type": "markdown",
      "metadata": {
        "id": "u9yp46d4PCPL"
      },
      "source": [
        "* Using the argmax function to get a single prediction"
      ]
    },
    {
      "cell_type": "code",
      "metadata": {
        "id": "uPQDlmgMDOqk"
      },
      "source": [
        ""
      ],
      "execution_count": 31,
      "outputs": []
    },
    {
      "cell_type": "markdown",
      "metadata": {
        "id": "irG3wcCOPIm5"
      },
      "source": [
        "* Viewing the image along with the predicted label"
      ]
    },
    {
      "cell_type": "code",
      "metadata": {
        "id": "hk89kbyzD0Xh"
      },
      "source": [
        ""
      ],
      "execution_count": 31,
      "outputs": []
    },
    {
      "cell_type": "markdown",
      "metadata": {
        "id": "mNxF-d3LPOMQ"
      },
      "source": [
        "* Evaluate the models performance om the test set using the sklearn -> metrics -> accuracy_score"
      ]
    },
    {
      "cell_type": "code",
      "metadata": {
        "id": "V7GBJlv9EspI"
      },
      "source": [
        ""
      ],
      "execution_count": 31,
      "outputs": []
    },
    {
      "cell_type": "markdown",
      "metadata": {
        "id": "A9vgCdxmCaPx"
      },
      "source": [
        "## GPU acclerated model"
      ]
    },
    {
      "cell_type": "code",
      "metadata": {
        "id": "c4mwV2wrGlIk"
      },
      "source": [
        "from tensorflow.python.client import device_lib # Look at list_local_devices"
      ],
      "execution_count": 3,
      "outputs": []
    },
    {
      "cell_type": "markdown",
      "metadata": {
        "id": "zIs-vKs7PmNi"
      },
      "source": [
        "* Look at the CPU we are using "
      ]
    },
    {
      "cell_type": "code",
      "metadata": {
        "id": "Qtz-HDC8G9AV"
      },
      "source": [
        ""
      ],
      "execution_count": 31,
      "outputs": []
    },
    {
      "cell_type": "markdown",
      "metadata": {
        "id": "hmPrNVp4PrFJ"
      },
      "source": [
        "* Now start a GPU runtime and look at the GPU available"
      ]
    },
    {
      "cell_type": "code",
      "metadata": {
        "id": "FjQCYArfHAmk"
      },
      "source": [
        ""
      ],
      "execution_count": 31,
      "outputs": []
    },
    {
      "cell_type": "markdown",
      "metadata": {
        "id": "Ihl44fvaPzS_"
      },
      "source": [
        "* Now look at the list_local_devices to view the available compute devices"
      ]
    },
    {
      "cell_type": "code",
      "metadata": {
        "id": "-_xGfdTLHyib"
      },
      "source": [
        ""
      ],
      "execution_count": 31,
      "outputs": []
    },
    {
      "cell_type": "markdown",
      "metadata": {
        "id": "1B91YWrkQKjk"
      },
      "source": [
        "* Now set the device as GPU using the tf.device API and then train the model."
      ]
    },
    {
      "cell_type": "code",
      "metadata": {
        "id": "Q19QoAoQI0xX"
      },
      "source": [
        ""
      ],
      "execution_count": 31,
      "outputs": []
    },
    {
      "cell_type": "markdown",
      "metadata": {
        "id": "yCVJEFDqQT_o"
      },
      "source": [
        ""
      ]
    },
    {
      "cell_type": "markdown",
      "metadata": {
        "id": "vd9Fa7XdQUMp"
      },
      "source": [
        "* Look at the prediction"
      ]
    },
    {
      "cell_type": "code",
      "metadata": {
        "id": "MC2dgGIBKgv8"
      },
      "source": [
        ""
      ],
      "execution_count": 31,
      "outputs": []
    },
    {
      "cell_type": "code",
      "metadata": {
        "id": "Akcp8kv_Lfag"
      },
      "source": [
        ""
      ],
      "execution_count": null,
      "outputs": []
    }
  ]
}