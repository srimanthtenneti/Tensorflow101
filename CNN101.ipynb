{
  "nbformat": 4,
  "nbformat_minor": 0,
  "metadata": {
    "colab": {
      "name": "CNN101.ipynb",
      "provenance": [],
      "authorship_tag": "ABX9TyMzPvo/tVHBYSfojYuBHKj4",
      "include_colab_link": true
    },
    "kernelspec": {
      "name": "python3",
      "display_name": "Python 3"
    },
    "language_info": {
      "name": "python"
    }
  },
  "cells": [
    {
      "cell_type": "markdown",
      "metadata": {
        "id": "view-in-github",
        "colab_type": "text"
      },
      "source": [
        "<a href=\"https://colab.research.google.com/github/srimanthtenneti/Tensorflow101/blob/main/CNN101.ipynb\" target=\"_parent\"><img src=\"https://colab.research.google.com/assets/colab-badge.svg\" alt=\"Open In Colab\"/></a>"
      ]
    },
    {
      "cell_type": "code",
      "metadata": {
        "id": "NV-ZvEI9Yhly"
      },
      "source": [
        "from tensorflow.keras.models import Sequential\n",
        "from tensorflow.keras import layers\n",
        "\n",
        "import matplotlib.pyplot as plt\n",
        "import pandas as pd\n",
        "import numpy as np"
      ],
      "execution_count": 33,
      "outputs": []
    },
    {
      "cell_type": "code",
      "metadata": {
        "id": "8Z9uX6XMbBlH"
      },
      "source": [
        "(x_train , y_train) , (x_test , y_test) = keras.datasets.mnist.load_data()"
      ],
      "execution_count": 34,
      "outputs": []
    },
    {
      "cell_type": "code",
      "metadata": {
        "id": "aGBnIEaXbYOC"
      },
      "source": [
        "x_train = x_train / 255\n",
        "x_test = x_test / 255"
      ],
      "execution_count": 35,
      "outputs": []
    },
    {
      "cell_type": "code",
      "metadata": {
        "id": "O3JSEqwgbncm"
      },
      "source": [
        "x_train = x_train.reshape(-1 , 28 , 28 , 1)\n",
        "x_test  = x_test.reshape(-1 , 28 , 28 , 1)"
      ],
      "execution_count": 36,
      "outputs": []
    },
    {
      "cell_type": "code",
      "metadata": {
        "id": "GALSfH6xbzuL"
      },
      "source": [
        "y_train = keras.utils.to_categorical(y_train)\n",
        "y_test  = keras.utils.to_categorical(y_test)"
      ],
      "execution_count": 37,
      "outputs": []
    },
    {
      "cell_type": "code",
      "metadata": {
        "colab": {
          "base_uri": "https://localhost:8080/"
        },
        "id": "1IDSqH-rcFOQ",
        "outputId": "b9ea7fac-d397-4517-8d9a-9e76f81e3fcc"
      },
      "source": [
        "x_train.shape"
      ],
      "execution_count": 39,
      "outputs": [
        {
          "output_type": "execute_result",
          "data": {
            "text/plain": [
              "(60000, 28, 28, 1)"
            ]
          },
          "metadata": {
            "tags": []
          },
          "execution_count": 39
        }
      ]
    },
    {
      "cell_type": "code",
      "metadata": {
        "id": "Dprxr_GzcTay"
      },
      "source": [
        "input_shape = (28,28,1)\n",
        "num_classes = 10"
      ],
      "execution_count": 41,
      "outputs": []
    },
    {
      "cell_type": "code",
      "metadata": {
        "id": "TOHS95eqcG44"
      },
      "source": [
        "model = Sequential(\n",
        "    [\n",
        "    keras.Input(input_shape),\n",
        "    layers.Conv2D(32 , kernel_size = (3,3) , activation= 'relu'),\n",
        "    layers.Conv2D(64 , kernel_size=(3,3) , activation = 'relu'),\n",
        "    layers.Flatten(),\n",
        "    layers.Dropout(0.5),\n",
        "    layers.Dense(num_classes , activation = 'softmax')\n",
        "    ]\n",
        ")"
      ],
      "execution_count": 46,
      "outputs": []
    },
    {
      "cell_type": "code",
      "metadata": {
        "id": "nHnVmKd6cwhK"
      },
      "source": [
        "model.compile(loss = 'categorical_crossentropy' , optimizer = 'adam' , metrics= ['accuracy'])"
      ],
      "execution_count": 47,
      "outputs": []
    },
    {
      "cell_type": "code",
      "metadata": {
        "colab": {
          "base_uri": "https://localhost:8080/"
        },
        "id": "h4VQmG_hfo5P",
        "outputId": "68bfa26d-7722-49c9-94e5-485c7cf3a1c7"
      },
      "source": [
        "model.fit(x_train , y_train , epochs = 2 , batch_size= 28)"
      ],
      "execution_count": 50,
      "outputs": [
        {
          "output_type": "stream",
          "text": [
            "Epoch 1/2\n",
            "2143/2143 [==============================] - 173s 81ms/step - loss: 0.0806 - accuracy: 0.9759\n",
            "Epoch 2/2\n",
            "2143/2143 [==============================] - 175s 82ms/step - loss: 0.0477 - accuracy: 0.9849\n"
          ],
          "name": "stdout"
        },
        {
          "output_type": "execute_result",
          "data": {
            "text/plain": [
              "<tensorflow.python.keras.callbacks.History at 0x7f57b6c0c5d0>"
            ]
          },
          "metadata": {
            "tags": []
          },
          "execution_count": 50
        }
      ]
    },
    {
      "cell_type": "code",
      "metadata": {
        "colab": {
          "base_uri": "https://localhost:8080/",
          "height": 282
        },
        "id": "CVsCu_n0fwhp",
        "outputId": "9f34c5ea-1281-4e19-d611-f88c01bab3d6"
      },
      "source": [
        "plt.imshow(x_test[2].reshape(28,28) , cmap = 'gray')"
      ],
      "execution_count": 60,
      "outputs": [
        {
          "output_type": "execute_result",
          "data": {
            "text/plain": [
              "<matplotlib.image.AxesImage at 0x7f57b3f153d0>"
            ]
          },
          "metadata": {
            "tags": []
          },
          "execution_count": 60
        },
        {
          "output_type": "display_data",
          "data": {
            "image/png": "[encoded data removed]",
            "text/plain": [
              "<Figure size 432x288 with 1 Axes>"
            ]
          },
          "metadata": {
            "tags": [],
            "needs_background": "light"
          }
        }
      ]
    },
    {
      "cell_type": "code",
      "metadata": {
        "colab": {
          "base_uri": "https://localhost:8080/"
        },
        "id": "ujwDcaMBhhnX",
        "outputId": "3e2956c5-8c05-4edc-beb8-61f19e1f8b98"
      },
      "source": [
        "prediction = np.argmax(model.predict(x_test[2].reshape(-1,28,28,1)))\n",
        "print(\"The prediction of the model is: \",prediction)"
      ],
      "execution_count": 61,
      "outputs": [
        {
          "output_type": "stream",
          "text": [
            "The prediction of the model is:  1\n"
          ],
          "name": "stdout"
        }
      ]
    }
  ]
}